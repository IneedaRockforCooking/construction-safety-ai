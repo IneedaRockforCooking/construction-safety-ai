{
 "cells": [
  {
   "cell_type": "code",
   "execution_count": 1,
   "metadata": {},
   "outputs": [],
   "source": [
    "import numpy as np\n",
    "import cv2, os, sys\n",
    "import matplotlib.pyplot as plt\n",
    "from PIL import Image\n",
    "import tensorflow as tf\n",
    "from tensorflow import keras\n",
    "from tensorflow.keras.preprocessing import image"
   ]
  },
  {
   "cell_type": "markdown",
   "metadata": {},
   "source": [
    "# Convert videos into images"
   ]
  },
  {
   "cell_type": "code",
   "execution_count": 22,
   "metadata": {},
   "outputs": [],
   "source": [
    "try: \n",
    "    if not os.path.exists('data'): \n",
    "        os.makedirs('data') \n",
    "\n",
    "except OSError: \n",
    "    print ('Error: Creating directory of data') "
   ]
  },
  {
   "cell_type": "code",
   "execution_count": 2,
   "metadata": {},
   "outputs": [],
   "source": [
    "from pathlib import Path"
   ]
  },
  {
   "cell_type": "code",
   "execution_count": 88,
   "metadata": {},
   "outputs": [
    {
     "name": "stdout",
     "output_type": "stream",
     "text": [
      "C:\\Users\\Chun Cheong So\\Desktop\\Tutoring\\tests\\data\n"
     ]
    }
   ],
   "source": [
    "cd data"
   ]
  },
  {
   "cell_type": "code",
   "execution_count": 85,
   "metadata": {},
   "outputs": [],
   "source": [
    "data = ['1.mp4','2.mp4','3.mp4','4.mp4','5.mp4','6.mp4']"
   ]
  },
  {
   "cell_type": "code",
   "execution_count": 89,
   "metadata": {},
   "outputs": [],
   "source": [
    "def convert(link):\n",
    "    video = cv2.VideoCapture(link)\n",
    "    currentFrame = 0\n",
    "    fc = video.get(cv2.CAP_PROP_FRAME_COUNT)\n",
    "    fps = video.get(cv2.CAP_PROP_FPS)\n",
    "    counter = 0\n",
    "    \n",
    "    code = link.split('.')[0]\n",
    "    \n",
    "    try: \n",
    "        if not os.path.exists('data/'+code): \n",
    "            os.makedirs('data/'+code) \n",
    "\n",
    "    except OSError: \n",
    "        print ('Error: Creating directory of data') \n",
    "    \n",
    "    while(True):\n",
    "        ret, frame = video.read()\n",
    "        \n",
    "        if ret:\n",
    "            name = './data/' + code + '/' + code + str(counter) + '.jpg'\n",
    "#             print('Adding material as ' + name)\n",
    "            \n",
    "            cv2.imwrite(name,frame)\n",
    "            currentFrame += 5\n",
    "            counter += 1\n",
    "            video.set(1, currentFrame)\n",
    "            \n",
    "        else:\n",
    "            break\n",
    "            \n",
    "    video.release()\n",
    "    cv2.destroyAllWindows()"
   ]
  },
  {
   "cell_type": "code",
   "execution_count": 90,
   "metadata": {},
   "outputs": [],
   "source": [
    "for i in data:\n",
    "    convert(i) # done"
   ]
  },
  {
   "cell_type": "markdown",
   "metadata": {},
   "source": [
    "# Preprocess images into grayscale"
   ]
  },
  {
   "cell_type": "code",
   "execution_count": 7,
   "metadata": {},
   "outputs": [],
   "source": [
    "one = Path('data') / '1'\n",
    "two = Path('data') / '2'\n",
    "three = Path('data') / '3'\n",
    "four = Path('data') / '4'\n",
    "five = Path('data') / '5'\n",
    "six = Path('data') / '6'"
   ]
  },
  {
   "cell_type": "code",
   "execution_count": 4,
   "metadata": {},
   "outputs": [],
   "source": [
    "from glob import glob"
   ]
  },
  {
   "cell_type": "code",
   "execution_count": 12,
   "metadata": {},
   "outputs": [],
   "source": [
    "import matplotlib.image as mimage"
   ]
  },
  {
   "cell_type": "code",
   "execution_count": 10,
   "metadata": {},
   "outputs": [],
   "source": [
    "source = [one,two,three,four,five,six]"
   ]
  },
  {
   "cell_type": "code",
   "execution_count": 5,
   "metadata": {},
   "outputs": [],
   "source": [
    "import skimage"
   ]
  },
  {
   "cell_type": "code",
   "execution_count": 3,
   "metadata": {},
   "outputs": [
    {
     "data": {
      "text/plain": [
       "'C:\\\\Users\\\\Chun Cheong So\\\\Desktop\\\\Tutoring\\\\tests'"
      ]
     },
     "execution_count": 3,
     "metadata": {},
     "output_type": "execute_result"
    }
   ],
   "source": [
    "pwd"
   ]
  },
  {
   "cell_type": "code",
   "execution_count": 7,
   "metadata": {},
   "outputs": [
    {
     "name": "stdout",
     "output_type": "stream",
     "text": [
      "Folder PATH listing for volume Acer\n",
      "Volume serial number is 00000181 109C:0D60\n",
      "C:\\USERS\\CHUN CHEONG SO\\DESKTOP\\TUTORING\\TESTS\\IMAGES\n",
      "No subfolders exist \n",
      "\n"
     ]
    }
   ],
   "source": [
    "!tree images"
   ]
  },
  {
   "cell_type": "code",
   "execution_count": 8,
   "metadata": {},
   "outputs": [
    {
     "data": {
      "text/plain": [
       "WindowsPath('images')"
      ]
     },
     "execution_count": 8,
     "metadata": {},
     "output_type": "execute_result"
    }
   ],
   "source": [
    "images = Path('images'); images"
   ]
  },
  {
   "cell_type": "code",
   "execution_count": 70,
   "metadata": {},
   "outputs": [],
   "source": [
    "m = []"
   ]
  },
  {
   "cell_type": "code",
   "execution_count": 71,
   "metadata": {},
   "outputs": [],
   "source": [
    "for g in images.glob('*.jpg'):\n",
    "    img = mimage.imread(g)\n",
    "    img = cv2.cvtColor(img, cv2.COLOR_RGB2GRAY)\n",
    "    m.append(img)\n",
    "    "
   ]
  },
  {
   "cell_type": "code",
   "execution_count": 83,
   "metadata": {},
   "outputs": [],
   "source": [
    "m[0].shape\n",
    "import imageio\n",
    "imageio.imwrite('filename.jpg', m[0])"
   ]
  },
  {
   "cell_type": "code",
   "execution_count": 31,
   "metadata": {},
   "outputs": [
    {
     "data": {
      "text/plain": [
       "'C:\\\\Users\\\\Chun Cheong So\\\\Desktop\\\\Tutoring\\\\tests'"
      ]
     },
     "execution_count": 31,
     "metadata": {},
     "output_type": "execute_result"
    }
   ],
   "source": [
    "pwd"
   ]
  },
  {
   "cell_type": "code",
   "execution_count": 25,
   "metadata": {},
   "outputs": [],
   "source": [
    "from tensorflow import image"
   ]
  },
  {
   "cell_type": "code",
   "execution_count": 12,
   "metadata": {},
   "outputs": [],
   "source": [
    "for f in source:\n",
    "    for g in f.glob('*.jpg'):\n",
    "        img = Image.open(g).convert('L')\n",
    "        img2 = img.resize((224,224))\n",
    "        img2.save(g)"
   ]
  },
  {
   "cell_type": "code",
   "execution_count": 13,
   "metadata": {},
   "outputs": [
    {
     "data": {
      "text/plain": [
       "2507"
      ]
     },
     "execution_count": 13,
     "metadata": {},
     "output_type": "execute_result"
    }
   ],
   "source": [
    "test = []\n",
    "for i in source:\n",
    "    for h in i.glob('*.jpg'):\n",
    "        img = mimage.imread(h)\n",
    "        test.append(img)\n",
    "len(test)"
   ]
  },
  {
   "cell_type": "code",
   "execution_count": 14,
   "metadata": {},
   "outputs": [],
   "source": [
    "# for p in source:\n",
    "#     for d in p.glob('*.jpg'):\n",
    "#         print(d)"
   ]
  },
  {
   "cell_type": "code",
   "execution_count": 15,
   "metadata": {},
   "outputs": [
    {
     "data": {
      "text/plain": [
       "array([[ 54,  56,  48, ..., 102, 131, 129],\n",
       "       [ 50,  55,  57, ..., 103, 127, 125],\n",
       "       [ 53,  50,  49, ..., 104, 122, 121],\n",
       "       ...,\n",
       "       [160,  50,  39, ...,  99, 117, 160],\n",
       "       [148,  48,  42, ...,  99, 111, 160],\n",
       "       [140,  47,  43, ..., 100, 108, 160]], dtype=uint8)"
      ]
     },
     "execution_count": 15,
     "metadata": {},
     "output_type": "execute_result"
    }
   ],
   "source": [
    "test[0]"
   ]
  },
  {
   "cell_type": "markdown",
   "metadata": {},
   "source": [
    "# Download images of hands, foot, and ladder with google images download package \n",
    "## reference to this repo: https://github.com/Joeclinton1/google-images-download"
   ]
  },
  {
   "cell_type": "code",
   "execution_count": 98,
   "metadata": {},
   "outputs": [],
   "source": [
    "googleimagesdownload -k 'sport shoes' -l 100 -cd chromedriver.exe"
   ]
  },
  {
   "cell_type": "code",
   "execution_count": 93,
   "metadata": {},
   "outputs": [
    {
     "data": {
      "text/plain": [
       "'C:\\\\Users\\\\Chun Cheong So\\\\Desktop\\\\Tutoring\\\\tests\\\\data'"
      ]
     },
     "execution_count": 93,
     "metadata": {},
     "output_type": "execute_result"
    }
   ],
   "source": [
    "pwd"
   ]
  },
  {
   "cell_type": "code",
   "execution_count": 94,
   "metadata": {},
   "outputs": [
    {
     "name": "stdout",
     "output_type": "stream",
     "text": [
      " Volume in drive C is Acer\n",
      " Volume Serial Number is 109C-0D60\n",
      "\n",
      " Directory of C:\\Users\\Chun Cheong So\\Desktop\\Tutoring\\tests\\data\n",
      "\n",
      "04/15/2020  10:08 PM    <DIR>          .\n",
      "04/15/2020  10:08 PM    <DIR>          ..\n",
      "04/15/2020  10:04 PM    <DIR>          1\n",
      "04/15/2020  10:04 PM    <DIR>          2\n",
      "04/15/2020  10:04 PM    <DIR>          3\n",
      "04/15/2020  10:04 PM    <DIR>          4\n",
      "04/15/2020  10:04 PM    <DIR>          5\n",
      "04/15/2020  10:04 PM    <DIR>          6\n",
      "               0 File(s)              0 bytes\n",
      "               8 Dir(s)  93,470,855,168 bytes free\n"
     ]
    }
   ],
   "source": [
    "ls"
   ]
  },
  {
   "cell_type": "markdown",
   "metadata": {},
   "source": [
    "# Preproccess new images"
   ]
  },
  {
   "cell_type": "code",
   "execution_count": 10,
   "metadata": {},
   "outputs": [
    {
     "data": {
      "text/plain": [
       "'C:\\\\Users\\\\Chun Cheong So\\\\desktop\\\\Tutoring\\\\tests'"
      ]
     },
     "execution_count": 10,
     "metadata": {},
     "output_type": "execute_result"
    }
   ],
   "source": [
    "os.getcwd()"
   ]
  },
  {
   "cell_type": "code",
   "execution_count": 17,
   "metadata": {},
   "outputs": [
    {
     "data": {
      "text/plain": [
       "'C:\\\\Users\\\\Chun Cheong So\\\\Desktop\\\\Tutoring\\\\tests'"
      ]
     },
     "execution_count": 17,
     "metadata": {},
     "output_type": "execute_result"
    }
   ],
   "source": [
    "pwd"
   ]
  },
  {
   "cell_type": "code",
   "execution_count": 23,
   "metadata": {},
   "outputs": [],
   "source": [
    "hands = os.getcwd() + '\\\\data\\\\hands'\n",
    "human = os.getcwd() + '\\\\data\\\\humanhands'\n",
    "ladder = os.getcwd() + '\\\\data\\\\ladder'\n",
    "ladderwooden = os.getcwd() + '\\\\data\\\\ladderwooden'\n",
    "shoes = os.getcwd() + '\\\\data\\\\shoes'\n",
    "trainershoes = os.getcwd() + '\\\\data\\\\trainershoes'"
   ]
  },
  {
   "cell_type": "code",
   "execution_count": 19,
   "metadata": {},
   "outputs": [
    {
     "data": {
      "text/plain": [
       "'hands'"
      ]
     },
     "execution_count": 19,
     "metadata": {},
     "output_type": "execute_result"
    }
   ],
   "source": [
    "hands.split('\\\\')[-1]"
   ]
  },
  {
   "cell_type": "code",
   "execution_count": 26,
   "metadata": {},
   "outputs": [],
   "source": [
    "# import os \n",
    "# os.getcwd()\n",
    "# collection = [hands,human,ladder,ladderwooden,shoes,trainershoes]\n",
    "# for d in collection:\n",
    "#     for i, filename in enumerate(os.listdir(d)):\n",
    "#         os.rename(d + '\\\\' + filename, d + '\\\\' + d.split('\\\\')[-1] + str(i) + \".jpg\")"
   ]
  },
  {
   "cell_type": "code",
   "execution_count": 45,
   "metadata": {},
   "outputs": [],
   "source": [
    "h1 = Path('data') / 'hands'\n",
    "h2 = Path('data') / 'humanhands'\n",
    "l1 = Path('data') / 'ladder'\n",
    "l2 = Path('data') / 'ladderwooden'\n",
    "s1 = Path('data') / 'shoes'\n",
    "s2 = Path('data') / 'trainershoes'\n",
    "trans = [h1,h2,l1,l2,s1,s2]"
   ]
  },
  {
   "cell_type": "code",
   "execution_count": 50,
   "metadata": {},
   "outputs": [],
   "source": [
    "for f in trans:\n",
    "    for g in f.glob('*.jpg'):\n",
    "        img = Image.open(g).convert('L')\n",
    "        img2 = img.resize((224,224))\n",
    "        img2.save(g)"
   ]
  },
  {
   "cell_type": "code",
   "execution_count": 51,
   "metadata": {},
   "outputs": [],
   "source": [
    "entire = source + trans"
   ]
  },
  {
   "cell_type": "code",
   "execution_count": 52,
   "metadata": {},
   "outputs": [
    {
     "data": {
      "text/plain": [
       "[WindowsPath('data/1'),\n",
       " WindowsPath('data/2'),\n",
       " WindowsPath('data/3'),\n",
       " WindowsPath('data/4'),\n",
       " WindowsPath('data/5'),\n",
       " WindowsPath('data/6'),\n",
       " WindowsPath('data/hands'),\n",
       " WindowsPath('data/humanhands'),\n",
       " WindowsPath('data/ladder'),\n",
       " WindowsPath('data/ladderwooden'),\n",
       " WindowsPath('data/shoes'),\n",
       " WindowsPath('data/trainershoes')]"
      ]
     },
     "execution_count": 52,
     "metadata": {},
     "output_type": "execute_result"
    }
   ],
   "source": [
    "entire"
   ]
  },
  {
   "cell_type": "code",
   "execution_count": 53,
   "metadata": {},
   "outputs": [],
   "source": [
    "image = []\n",
    "for i in entire:\n",
    "    for p in i.glob('*.jpg'):\n",
    "        img = mimage.imread(p)\n",
    "        image.append(img)"
   ]
  },
  {
   "cell_type": "code",
   "execution_count": 54,
   "metadata": {},
   "outputs": [
    {
     "data": {
      "text/plain": [
       "2891"
      ]
     },
     "execution_count": 54,
     "metadata": {},
     "output_type": "execute_result"
    }
   ],
   "source": [
    "len(image)"
   ]
  },
  {
   "cell_type": "code",
   "execution_count": 55,
   "metadata": {},
   "outputs": [
    {
     "data": {
      "text/plain": [
       "True"
      ]
     },
     "execution_count": 55,
     "metadata": {},
     "output_type": "execute_result"
    }
   ],
   "source": [
    "image[0].shape == image[-1].shape"
   ]
  },
  {
   "cell_type": "code",
   "execution_count": 58,
   "metadata": {},
   "outputs": [
    {
     "data": {
      "text/plain": [
       "(224, 224)"
      ]
     },
     "execution_count": 58,
     "metadata": {},
     "output_type": "execute_result"
    }
   ],
   "source": [
    "image[0].shape"
   ]
  },
  {
   "cell_type": "code",
   "execution_count": 59,
   "metadata": {},
   "outputs": [
    {
     "data": {
      "text/plain": [
       "<matplotlib.image.AxesImage at 0x2d789223748>"
      ]
     },
     "execution_count": 59,
     "metadata": {},
     "output_type": "execute_result"
    },
    {
     "data": {
      "image/png": "[encoded data removed]",
      "text/plain": [
       "<Figure size 432x288 with 1 Axes>"
      ]
     },
     "metadata": {
      "needs_background": "light"
     },
     "output_type": "display_data"
    }
   ],
   "source": [
    "plt.imshow(image[0])"
   ]
  },
  {
   "cell_type": "code",
   "execution_count": 34,
   "metadata": {},
   "outputs": [],
   "source": [
    "f1 = os.getcwd() + '\\\\data\\\\4'\n",
    "f2 = os.getcwd() + '\\\\annotation\\\\4'\n",
    "ff1 = os.getcwd() + '\\\\data\\\\5'\n",
    "ff2 = os.getcwd() + '\\\\annotation\\\\5'\n",
    "s1 = os.getcwd() + '\\\\data\\\\6'\n",
    "s2 = os.getcwd() + '\\\\annotation\\\\6'\n",
    "hand1 = os.getcwd() + '\\\\data\\\\hands'\n",
    "hand2 = os.getcwd() + '\\\\annotation\\\\hands'\n",
    "human1 = os.getcwd() + '\\\\data\\\\humanhands'\n",
    "human2 = os.getcwd() + '\\\\annotation\\\\humanhands'\n",
    "ladder1 = os.getcwd() + '\\\\data\\\\ladder'\n",
    "ladder2 = os.getcwd() + '\\\\annotation\\\\ladder'\n",
    "wood1 = os.getcwd() + '\\\\data\\\\ladderwooden'\n",
    "wood2 = os.getcwd() + '\\\\annotation\\\\ladderwooden'\n",
    "shoe1 = os.getcwd() + '\\\\data\\\\shoes'\n",
    "shoe2 = os.getcwd() + '\\\\annotation\\\\shoes'\n",
    "trainer1 = os.getcwd() + '\\\\data\\\\trainershoes'\n",
    "trainer2 = os.getcwd() + '\\\\annotation\\\\trainershoes'"
   ]
  },
  {
   "cell_type": "code",
   "execution_count": 41,
   "metadata": {},
   "outputs": [],
   "source": [
    "set1 = [hand1,human1,ladder1,wood1,shoe1,trainer1]\n",
    "set2 = [hand2,human2,ladder2,wood2,shoe2,trainer2]"
   ]
  },
  {
   "cell_type": "code",
   "execution_count": 43,
   "metadata": {},
   "outputs": [],
   "source": [
    "for i in range(len(set1)):\n",
    "    for g in range(len(set2)):\n",
    "        if i == g:\n",
    "            for f, f1 in enumerate(os.listdir(set1[i])):\n",
    "                for b, b1 in enumerate(os.listdir(set2[g])):\n",
    "                    if f == b:\n",
    "                        if f1.split('.')[0] != b1.split('.')[0]:\n",
    "                            print(f1,b1)"
   ]
  },
  {
   "cell_type": "code",
   "execution_count": 44,
   "metadata": {},
   "outputs": [],
   "source": [
    "# import os \n",
    "# os.getcwd()\n",
    "# collection = [hands,human,ladder,ladderwooden,shoes,trainershoes]\n",
    "# for d in collection:\n",
    "#     for i, filename in enumerate(os.listdir(d)):\n",
    "#         os.rename(d + '\\\\' + filename, d + '\\\\' + d.split('\\\\')[-1] + str(i) + \".jpg\")"
   ]
  },
  {
   "cell_type": "code",
   "execution_count": 101,
   "metadata": {},
   "outputs": [
    {
     "name": "stdout",
     "output_type": "stream",
     "text": [
      "C:\\Users\\Chun Cheong So\\Desktop\\Tutoring\\tests\n"
     ]
    }
   ],
   "source": [
    "cd .."
   ]
  },
  {
   "cell_type": "code",
   "execution_count": 102,
   "metadata": {},
   "outputs": [
    {
     "data": {
      "text/plain": [
       "'C:\\\\Users\\\\Chun Cheong So\\\\Desktop\\\\Tutoring\\\\tests'"
      ]
     },
     "execution_count": 102,
     "metadata": {},
     "output_type": "execute_result"
    }
   ],
   "source": [
    "pwd"
   ]
  },
  {
   "cell_type": "code",
   "execution_count": 113,
   "metadata": {},
   "outputs": [],
   "source": [
    "data = Path('data')"
   ]
  },
  {
   "cell_type": "code",
   "execution_count": 122,
   "metadata": {},
   "outputs": [],
   "source": [
    "imags = []"
   ]
  },
  {
   "cell_type": "code",
   "execution_count": 123,
   "metadata": {},
   "outputs": [],
   "source": [
    "for i in data.glob('*.jpg'):\n",
    "    img = cv2.imdecode(np.fromfile(i, dtype=np.uint8), cv2.cv2.IMREAD_COLOR)\n",
    "    img = cv2.resize(img,(224,224))\n",
    "    img = cv2.cvtColor(img,cv2.COLOR_RGB2BGR)\n",
    "    imags.append(img)\n",
    "    imageio.imwrite(i, img)"
   ]
  },
  {
   "cell_type": "code",
   "execution_count": 117,
   "metadata": {},
   "outputs": [
    {
     "data": {
      "text/plain": [
       "552"
      ]
     },
     "execution_count": 117,
     "metadata": {},
     "output_type": "execute_result"
    }
   ],
   "source": [
    "len(imags)"
   ]
  },
  {
   "cell_type": "code",
   "execution_count": 118,
   "metadata": {},
   "outputs": [
    {
     "data": {
      "text/plain": [
       "(224, 224, 3)"
      ]
     },
     "execution_count": 118,
     "metadata": {},
     "output_type": "execute_result"
    }
   ],
   "source": [
    "imags[0].shape"
   ]
  },
  {
   "cell_type": "code",
   "execution_count": null,
   "metadata": {},
   "outputs": [],
   "source": []
  },
  {
   "cell_type": "code",
   "execution_count": null,
   "metadata": {},
   "outputs": [],
   "source": []
  },
  {
   "cell_type": "code",
   "execution_count": null,
   "metadata": {},
   "outputs": [],
   "source": []
  },
  {
   "cell_type": "code",
   "execution_count": null,
   "metadata": {},
   "outputs": [],
   "source": []
  }
 ],
 "metadata": {
  "kernelspec": {
   "display_name": "Python 3",
   "language": "python",
   "name": "python3"
  },
  "language_info": {
   "codemirror_mode": {
    "name": "ipython",
    "version": 3
   },
   "file_extension": ".py",
   "mimetype": "text/x-python",
   "name": "python",
   "nbconvert_exporter": "python",
   "pygments_lexer": "ipython3",
   "version": "3.7.7"
  }
 },
 "nbformat": 4,
 "nbformat_minor": 4
}
